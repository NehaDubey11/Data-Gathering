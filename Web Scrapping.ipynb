{
 "cells": [
  {
   "cell_type": "code",
   "execution_count": 44,
   "id": "0fd329c8",
   "metadata": {},
   "outputs": [],
   "source": [
    "import requests\n",
    "import html5lib\n",
    "from bs4 import BeautifulSoup\n",
    "import pandas as pd\n",
    "url = \"https://www.architecturaldigest.in/content/top-5-vastu-questions-answered-by-our-expert-vastukar/\"\n",
    "r = requests.get(url)\n",
    "htmlContent = r.content\n",
    "#print(htmlContent)\n",
    "#created  beautifulsoup object\n",
    "\n",
    "soup = BeautifulSoup(r.content, 'html.parser')\n",
    "\n",
    "#print(soup.prettify())\t# to print html in tree structure"
   ]
  },
  {
   "cell_type": "code",
   "execution_count": 45,
   "id": "ddcdc473",
   "metadata": {},
   "outputs": [],
   "source": [
    "content=soup.find_all('div',class_='body__inner-container')\n",
    "for line in content:\n",
    "    data=line.text\n",
    "    data=str(data)\n",
    "#f=open(\"Vastu_data.txt\",\"w\")\n",
    "#for line in content:\n",
    " #   f.write(line.text)\n",
    "#f.close()"
   ]
  },
  {
   "cell_type": "code",
   "execution_count": 38,
   "id": "b5bd865a",
   "metadata": {},
   "outputs": [
    {
     "name": "stdout",
     "output_type": "stream",
     "text": [
      "[['Directional Placement of Mirrors', 'Suitable Areas', 'Shapes are Important', 'Improve Wealth', 'Keep it Clean', 'Mirrors in the Bedroom', 'ALSO READ:'], ['', 'By Dr Aarushi Sadhotra Manhas', \"Mirrors don't just have a decorative or functional value; they are also excellent tools to create the illusion of a larger space. But as per vastu, there is another functionality to mirrors—if placed correctly, they can change the energy of a home. Mirrors have the power to attract positivity and reflect or reject negative energies. They can revert vastu flaws, just with their correct placement. Here are some rules to placing mirrors in your homes, as per Vastu Shashtra.\", 'Mirrors should always be placed on the eastern and northern walls of the house and never on southern or western walls.', 'Other than the dressing room and washroom, mirrors can be placed in the dining area, right opposite the dining table, so that while having meals, the entire family is reflected in the mirror. As per vastu, this brings prosperity, enhances love and affection between the family members.', 'Square and rectangular shapes are preferred in vastu shastra as they spread energies evenly. Oval and circles are not considered the best and should be avoided. Although there is no restriction on the size of the mirror to be used, any irregular shape should be avoided.', 'According to vastu, circular mirrors are not a preferred shape. Photo credit: Minh Pham/Unsplash', 'Placing a mirror inside your locker can help improve your wealth. Ensure that the mirror is one piece and does not show a distorted image of the locker or things kept inside.', 'Wherever you place a mirror, make sure that it is kept absolutely clean and spotless. Do not stick anything on the reflective surface like stickers or bindis.', 'Master bedroom should be in the south or southwest direction, which is dominated by earth element. Whereas, mirror is water element and is associated with instability. As per vastu, it is not advisable to place a mirror in this room as it will interfere with the energies of earth element and create chaos.', 'Connect With AD', 'Associated Sites', '© 2022 Condé Nast. All rights reserved. Use of this website constitutes acceptance of our  Terms of Service (updated 1/1/20) and Policy and Cookie Statement (updated 18/11/20). The material on this site may not be reproduced, distributed, transmitted, cached or otherwise used, except with the prior written permission of Condé Nast.'], ['https://www.architecturaldigest.in/story/6-vastu-tips-to-attract-wealth-to-your-home/None', 'https://www.architecturaldigest.in/story/6-vastu-tips-to-attract-wealth-to-your-home/None', 'https://www.architecturaldigest.in/story/6-vastu-tips-to-attract-wealth-to-your-home/None', 'https://www.architecturaldigest.in/story/6-vastu-tips-to-attract-wealth-to-your-home/None', 'https://www.architecturaldigest.in/story/6-vastu-tips-to-attract-wealth-to-your-home/None', 'https://www.architecturaldigest.in/story/6-vastu-tips-to-attract-wealth-to-your-home/None', 'https://www.architecturaldigest.in/story/6-vastu-tips-to-attract-wealth-to-your-home/None', 'https://www.architecturaldigest.in/story/6-vastu-tips-to-attract-wealth-to-your-home/None', 'https://www.architecturaldigest.in/story/6-vastu-tips-to-attract-wealth-to-your-home/None', 'https://www.architecturaldigest.in/story/6-vastu-tips-to-attract-wealth-to-your-home/None', 'https://www.architecturaldigest.in/story/6-vastu-tips-to-attract-wealth-to-your-home/None', 'https://www.architecturaldigest.in/story/6-vastu-tips-to-attract-wealth-to-your-home/None', 'https://www.architecturaldigest.in/story/6-vastu-tips-to-attract-wealth-to-your-home/None']]\n"
     ]
    }
   ],
   "source": [
    "#body_text=soup.find_all('div',class_=\"BodyWrapper-ctnerm dIQifz body body__container article__body\")\n",
    "#print(body_text)\n",
    "#for i in body_text:\n",
    "        #print(i.find('p'))"
   ]
  },
  {
   "cell_type": "code",
   "execution_count": 28,
   "id": "3eac88b8",
   "metadata": {},
   "outputs": [
    {
     "name": "stdout",
     "output_type": "stream",
     "text": [
      "6 vastu tips for placing mirrors in your home\n"
     ]
    }
   ],
   "source": [
    "first_heading=soup.find_all('h1')\n",
    "for i in first_heading:\n",
    "    h1=i.text\n",
    "    print(h1)\n",
    "    \n",
    "\n"
   ]
  },
  {
   "cell_type": "code",
   "execution_count": 29,
   "id": "082ee0ec",
   "metadata": {},
   "outputs": [],
   "source": [
    "headings=[]\n",
    "paragraph=[]\n",
    "links=[]\n",
    "head=soup.find_all('h2')\n",
    "for i in head:\n",
    "    headings.append(i.text)\n",
    "#print(headings.insert(0,\"6 Vastu tips to attract wealth to your home\"))"
   ]
  },
  {
   "cell_type": "code",
   "execution_count": 30,
   "id": "41170fbe",
   "metadata": {},
   "outputs": [],
   "source": [
    "para=soup.find_all('p')\n",
    "\n",
    "for i in para:\n",
    "    #remove=i.find('em')\n",
    "    #print(remove)\n",
    "    if(i.get('href') != '#'): \n",
    "       linkText = \"https://www.architecturaldigest.in/story/6-vastu-tips-to-attract-wealth-to-your-home/\" + str(i.get('href'))\n",
    "       links.append(linkText)\n",
    "    if i not in links:\n",
    "      paragraph.append(i.text)\n",
    "#print(paragraph)\n",
    "#print(links)"
   ]
  },
  {
   "cell_type": "code",
   "execution_count": 31,
   "id": "82103fa8",
   "metadata": {},
   "outputs": [
    {
     "name": "stdout",
     "output_type": "stream",
     "text": [
      "\n",
      "\n",
      "By Dr Aarushi Sadhotra Manhas\n",
      "\n",
      "Mirrors don't just have a decorative or functional value; they are also excellent tools to create the illusion of a larger space. But as per vastu, there is another functionality to mirrors—if placed correctly, they can change the energy of a home. Mirrors have the power to attract positivity and reflect or reject negative energies. They can revert vastu flaws, just with their correct placement. Here are some rules to placing mirrors in your homes, as per Vastu Shashtra.\n",
      "\n",
      "Mirrors should always be placed on the eastern and northern walls of the house and never on southern or western walls.\n",
      "\n",
      "Other than the dressing room and washroom, mirrors can be placed in the dining area, right opposite the dining table, so that while having meals, the entire family is reflected in the mirror. As per vastu, this brings prosperity, enhances love and affection between the family members.\n",
      "\n",
      "Square and rectangular shapes are preferred in vastu shastra as they spread energies evenly. Oval and circles are not considered the best and should be avoided. Although there is no restriction on the size of the mirror to be used, any irregular shape should be avoided.\n",
      "\n",
      "According to vastu, circular mirrors are not a preferred shape. Photo credit: Minh Pham/Unsplash\n",
      "\n",
      "Placing a mirror inside your locker can help improve your wealth. Ensure that the mirror is one piece and does not show a distorted image of the locker or things kept inside.\n",
      "\n",
      "Wherever you place a mirror, make sure that it is kept absolutely clean and spotless. Do not stick anything on the reflective surface like stickers or bindis.\n",
      "\n",
      "Master bedroom should be in the south or southwest direction, which is dominated by earth element. Whereas, mirror is water element and is associated with instability. As per vastu, it is not advisable to place a mirror in this room as it will interfere with the energies of earth element and create chaos.\n",
      "\n",
      "Connect With AD\n",
      "\n",
      "Associated Sites\n",
      "\n",
      "© 2022 Condé Nast. All rights reserved. Use of this website constitutes acceptance of our  Terms of Service (updated 1/1/20) and Policy and Cookie Statement (updated 18/11/20). The material on this site may not be reproduced, distributed, transmitted, cached or otherwise used, except with the prior written permission of Condé Nast.\n",
      "\n"
     ]
    }
   ],
   "source": [
    "for i in  paragraph:\n",
    "    print(i,end='\\n\\n')\n",
    "#paragraph.remove('Also read')\n",
    "#print(paragraph)"
   ]
  },
  {
   "cell_type": "code",
   "execution_count": null,
   "id": "5a545eac",
   "metadata": {},
   "outputs": [],
   "source": []
  },
  {
   "cell_type": "code",
   "execution_count": 32,
   "id": "5b2e7041",
   "metadata": {},
   "outputs": [],
   "source": [
    "import csv\n"
   ]
  },
  {
   "cell_type": "code",
   "execution_count": 33,
   "id": "c852968b",
   "metadata": {},
   "outputs": [],
   "source": [
    "header=['headings','paragraph','links']\n",
    "data = [headings, paragraph, links]\n",
    "\n"
   ]
  },
  {
   "cell_type": "code",
   "execution_count": 49,
   "id": "fe1ae167",
   "metadata": {},
   "outputs": [],
   "source": [
    "\n",
    "with open('Vastu4.txt', 'w', encoding='UTF8') as f:\n",
    "    #writer = csv.writer(f)\n",
    "    f.write(data)\n",
    "    \n",
    "    # write the header\n",
    "   # writer.writerow(header)\n",
    "\n",
    "    # write the data\n",
    "   # writer.writerow(data)"
   ]
  },
  {
   "cell_type": "code",
   "execution_count": 50,
   "id": "27425dda",
   "metadata": {},
   "outputs": [
    {
     "name": "stdout",
     "output_type": "stream",
     "text": [
      "  Vastu architecture while offering to maintain the equilibrium of ‘Panch-Mahabhutas' in a premise  also utilises them to strengthen the physical and mental wellbeing of the residents to the maximum extent. It brings harmony between man                          nature and his abode and promises good health  happiness and prosperity.How Can One Design a Vastu-Friendly Kitchen?South-east or ‘Aagneya Kone' is the direction dedicated to the kitchen as this direction is dedicated to fire element. If the interiors of the kitchen allow then one must place the gas hob exactly in the south-east corner and the cook should be facing east. Kitchen slab should either be white                                                                                                                                                                                                                                                                                            off-white   ivory or any other lighter shade. Never go for a black   green   blue or dark brown colour of countertop.Fridge   microwave and toaster should be placed in the north-west side of the kitchen. South and west side should be for the cupboards and for storing pulses   wheat   rice. Cylinders should be stacked up in the southern side. Dishwasher   water purifier and sink should be on the eastern or northern walls   with fewer cupboards. Kitchen in south-east should generally be painted white and cupboards can have a combination of white   off-white and red. However red is to be kept at the minimum.Vastu offers directions for storing different kitchen appliances as well. Photo credit: Creatv Eight/Unsplash\n",
      "0                                Which Direction is the Best to Build a House?As per vastu shastra                                                                                                                                      east   north-east and north are the best directions for your house. However                                                                                                                                                                                                                     there are many other things to it than just following these directions blindly. Having an east or north facing house is a good idea for northern region   but replicating the same principle of architecture in north-eastern region would be a mistake. West or south facing premises are recommended for north-eastern regions. It is best to consult a vastu expert to get the best advice for your home.ALSO READ:Vastu tips for the balcony and terrace                                                      NaN     NaN                                              NaN                                                                                                                                                    NaN     NaN                                                                     NaN                                                                  NaN                                                                                                                           NaN                                                                                                                                                                         NaN\n"
     ]
    }
   ],
   "source": [
    "df=pd.read_csv(\"Vastu4.txt\")\n",
    "print(df.to_string())"
   ]
  },
  {
   "cell_type": "code",
   "execution_count": null,
   "id": "d3fcc31f",
   "metadata": {},
   "outputs": [],
   "source": []
  }
 ],
 "metadata": {
  "kernelspec": {
   "display_name": "Python 3",
   "language": "python",
   "name": "python3"
  },
  "language_info": {
   "codemirror_mode": {
    "name": "ipython",
    "version": 3
   },
   "file_extension": ".py",
   "mimetype": "text/x-python",
   "name": "python",
   "nbconvert_exporter": "python",
   "pygments_lexer": "ipython3",
   "version": "3.8.8"
  }
 },
 "nbformat": 4,
 "nbformat_minor": 5
}
